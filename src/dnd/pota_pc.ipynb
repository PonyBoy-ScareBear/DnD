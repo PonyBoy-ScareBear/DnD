{
 "cells": [
  {
   "cell_type": "markdown",
   "metadata": {},
   "source": [
    "# **Character:** *Avatar Dang*\n",
    "\n",
    "|Information|Description|\n",
    "|:---|:---|\n",
    "|Player|Zach|\n",
    "|Background|Inheritor|\n",
    "|Race|Genasi (All variants)|\n",
    "|Language(s)|Common, Primordial|\n",
    "|Size|Medium|\n",
    "|Weight|TBD|"
   ]
  },
  {
   "cell_type": "markdown",
   "metadata": {},
   "source": [
    "## Class Features"
   ]
  },
  {
   "cell_type": "markdown",
   "metadata": {},
   "source": [
    "|Class|Variant|Level|\n",
    "|:---|:---|:---:|\n",
    "|TBD|TBD|1|"
   ]
  },
  {
   "cell_type": "markdown",
   "metadata": {},
   "source": [
    "## Abilities"
   ]
  },
  {
   "cell_type": "markdown",
   "metadata": {},
   "source": [
    "|Ability|Description|Source|\n",
    "|:---|:---|:---|\n",
    "|Acid Resistance|You have resistance to acid damage.|Water Genasi|\n",
    "|Amphibious|You can breathe air and water.|Water Genasi|\n",
    "|Darkvision|You can see in dim light within 60 feet of you as if it were bright light, and in darkness as if it were dim light. Everything you see in darkness is a shade of red.|Fire Genasi|\n",
    "|Earth Walk|You can move across difficult terrain made of earth or stone without expending extra movement.|Earth Genasi|\n",
    "|Fire Resistance|You have resistance to fire damage.|Fire Genasi|\n",
    "|Swim|You have a swimming speed of 30 feet.|Water Genasi|\n",
    "|Unending Breath|You can hold your breath indefinitely while you're not incapacitated.|Air Genasi|"
   ]
  },
  {
   "cell_type": "markdown",
   "metadata": {},
   "source": [
    "## Ability Score"
   ]
  },
  {
   "cell_type": "markdown",
   "metadata": {},
   "source": [
    "|Ability|Score|Modifier|\n",
    "|:---|:---:|:---:|\n",
    "|Strength|10||\n",
    "|Dexterity|10||\n",
    "|Constitution|10||\n",
    "|Intelligence|10||\n",
    "|Wisdom|10||\n",
    "|Charisma|10||"
   ]
  },
  {
   "cell_type": "markdown",
   "metadata": {},
   "source": [
    "## Items"
   ]
  },
  {
   "cell_type": "markdown",
   "metadata": {},
   "source": [
    "|Amount|Item|Description|Price|\n",
    "|:---:|:---|:---|:---:|\n",
    "|1|Clothing TBD|jsbd|masdc|\n"
   ]
  },
  {
   "cell_type": "markdown",
   "metadata": {},
   "source": [
    "## Saving Throw"
   ]
  },
  {
   "cell_type": "markdown",
   "metadata": {},
   "source": [
    "|Ability|Modifier|\n",
    "|:---|:---:|\n",
    "|Strength|1|\n",
    "|Dexterity|1|\n",
    "|Constitution|1|\n",
    "|Intelligence|1|\n",
    "|Wisdom|1|\n",
    "|Charisma|1|"
   ]
  },
  {
   "cell_type": "markdown",
   "metadata": {},
   "source": [
    "## Skills"
   ]
  },
  {
   "cell_type": "markdown",
   "metadata": {},
   "source": [
    "|Skill|Score|Ability|\n",
    "|:---|:---:|:---:|\n",
    "|Acrobatics|0|Dex|\n",
    "|Animal Handling|0|Wis|\n",
    "|Arcana|0|Int|\n",
    "|Athletics|0|Str|\n",
    "|Deception|0|Cha|\n",
    "|History|0|Int|\n",
    "|Insight|0|Wis|\n",
    "|Intimidation|0|Cha|\n",
    "|Investigation|0|Int|\n",
    "|Medicine|0|Wis|\n",
    "|Nature|0|Int|\n",
    "|Perception|0|Wis|\n",
    "|Performance|0|Cha|\n",
    "|Persuasion|0|Cha|\n",
    "|Religion|0|Int|\n",
    "|Sleight of Hand|0|Dex|\n",
    "|Stealth|0|Dex|\n",
    "|Survival|0|Wis|"
   ]
  },
  {
   "cell_type": "markdown",
   "metadata": {},
   "source": [
    "## Speed"
   ]
  },
  {
   "cell_type": "markdown",
   "metadata": {},
   "source": [
    "|Type|Distance (ft)|\n",
    "|:---|:---:|\n",
    "|Walking|30|\n",
    "|Swimming|30|\n",
    "|Climbing|TBD|\n",
    "|Flying|TBD|\n",
    "|Rough Terrain (Earth)|TBD|\n",
    "|Rough Terrain (Other)|15|"
   ]
  },
  {
   "cell_type": "markdown",
   "metadata": {},
   "source": [
    "# **Character:** *Treantling*\n",
    "\n",
    "|Information|Description|\n",
    "|:---|:---|\n",
    "|Player|Kevin|\n",
    "|Background|TBD|\n",
    "|Race|Treantling (Shrub Variant)|\n",
    "|Language(s)|Common, Sylvan|\n",
    "|Size|Medium|\n",
    "|Weight|TBD|\n"
   ]
  },
  {
   "cell_type": "markdown",
   "metadata": {},
   "source": [
    "## Class Features"
   ]
  },
  {
   "cell_type": "markdown",
   "metadata": {},
   "source": [
    "|Class|Variant|Level|\n",
    "|:---|:---|:---:|\n",
    "|TBD|TBD|1|"
   ]
  },
  {
   "cell_type": "markdown",
   "metadata": {},
   "source": [
    "## Abilities"
   ]
  },
  {
   "cell_type": "markdown",
   "metadata": {},
   "source": [
    "|Ability|Description|Source|\n",
    "|:---|:---|:---|\n",
    "|False Appearance|While the shrub remains motionless, it is indistinguishable from a normal shrubs. You have advantage on Dexterity (Stealth) checks to hide in any terrain with ample obscuring plant life.|Treant|\n",
    "|Treelike Nature|You don't need to eat, sleep, or breathe. You can finish a long rest in 4 hours if you spend those hours in an inactive, motionless state, during which you retain conciousness. You can survive for an hour underwater before you start to suffer the effects of suffocation. You naturally float and need stuff to weigh you down in order to be less buoyant.|Treant|\n",
    "|Animate Plant|Magically animates one or two plants it can see within 60 feet of it. These trees have the same statistics as a treant, except they have Intelligence and Charisma scores of 1, they can't speak. An animated plant acts as your ally. It remains animate for 1 day or until it dies, you die or are more than 120 feet from the plant, or until you take a bonus action to turn it back into an inanimate plant. The plant then takes root if possible. You can use this trait once per day.|Treant|\n",
    "|Living Tree|You may choose to take root as an action. Treantlings can only take root in sand, dirt, mud, loose stone, or gravel; they cannot root down through worked stone or bare rock. While rooted, your speed is reduced to 0 and you gain *tremorsense* out to 10 feet. Plants within 15 feet of you can understand the meaning of your words while you are rooted.|Treant|\n",
    "|Standing Tall|Most treant detest laying down. It reminds them of fallen trees and brings dark thoughts. As such, when they rest (be it rooted down or otherwise) they stand tall. You have advantage on checks and saves made to resist being knocked prone.\n",
    "|Shrub|Like the plants they resemble, shrubentlings have multiple stems instead of just one and grow quicker. You can also bounce back from \"pruning\" easier. When you are reduced to 0 hit points but not killed outright, you can drop to 1 hit point instead and your speed increases by 10 feet until the end of your next turn. You can't use this feature again until you finish a long rest.|Treant|\n",
    "|Fruiting|When you finish a long rest, and are considered to have consumed enough nourishment for the day, you produce 1d4 fruit. This increases to 1d6 fruit at 3rd level and 1d8 at 5th level. Each fruit provides half a days worth of nourishment. You can also choose to infuse a number of fruit equal"
   ]
  },
  {
   "cell_type": "markdown",
   "metadata": {},
   "source": [
    "## Ability Score"
   ]
  },
  {
   "cell_type": "markdown",
   "metadata": {},
   "source": [
    "|Ability|Score|Modifier|\n",
    "|:---|:---:|:---:|\n",
    "|Strength|10||\n",
    "|Dexterity|10||\n",
    "|Constitution|10||\n",
    "|Intelligence|10||\n",
    "|Wisdom|10||\n",
    "|Charisma|10||"
   ]
  },
  {
   "cell_type": "markdown",
   "metadata": {},
   "source": [
    "## Saving Throw"
   ]
  },
  {
   "cell_type": "markdown",
   "metadata": {},
   "source": [
    "|Ability|Modifier|\n",
    "|:---|:---:|\n",
    "|Strength|1|\n",
    "|Dexterity|1|\n",
    "|Constitution|1|\n",
    "|Intelligence|1|\n",
    "|Wisdom|1|\n",
    "|Charisma|1|"
   ]
  },
  {
   "cell_type": "markdown",
   "metadata": {},
   "source": [
    "## Skills"
   ]
  },
  {
   "cell_type": "markdown",
   "metadata": {},
   "source": [
    "|Skill|Score|Ability|\n",
    "|:---|:---:|:---:|\n",
    "|Acrobatics|0|Dex|\n",
    "|Animal Handling|0|Wis|\n",
    "|Arcana|0|Int|\n",
    "|Athletics|0|Str|\n",
    "|Deception|0|Cha|\n",
    "|History|0|Int|\n",
    "|Insight|0|Wis|\n",
    "|Intimidation|0|Cha|\n",
    "|Investigation|0|Int|\n",
    "|Medicine|0|Wis|\n",
    "|Nature|0|Int|\n",
    "|Perception|0|Wis|\n",
    "|Performance|0|Cha|\n",
    "|Persuasion|0|Cha|\n",
    "|Religion|0|Int|\n",
    "|Sleight of Hand|0|Dex|\n",
    "|Stealth|0|Dex|\n",
    "|Survival|0|Wis|"
   ]
  },
  {
   "cell_type": "markdown",
   "metadata": {},
   "source": [
    "## Speed"
   ]
  },
  {
   "cell_type": "markdown",
   "metadata": {},
   "source": [
    "|Type|Distance (ft)|\n",
    "|:---|:---:|\n",
    "|Walking|30|\n",
    "|Swimming|TBD|\n",
    "|Climbing|TBD|\n",
    "|Flying|TBD|\n",
    "|Rough Terrain|TBD|"
   ]
  },
  {
   "cell_type": "markdown",
   "metadata": {},
   "source": [
    "# **Character:** *Noel 1*\n",
    "\n",
    "|Information|Description|\n",
    "|:---|:---|\n",
    "|Player|Noel|\n",
    "|Background|TBD|\n",
    "|Race|TBD|\n",
    "|Language(s)|Common, TBD|\n",
    "|Size|TBD|\n",
    "|Weight|TBD|\n",
    "\n"
   ]
  },
  {
   "cell_type": "markdown",
   "metadata": {},
   "source": [
    "## Class Features"
   ]
  },
  {
   "cell_type": "markdown",
   "metadata": {},
   "source": [
    "|Class|Variant|Level|\n",
    "|:---|:---|:---:|\n",
    "|TBD|TBD|1|"
   ]
  },
  {
   "cell_type": "markdown",
   "metadata": {},
   "source": [
    "## Abilities"
   ]
  },
  {
   "cell_type": "markdown",
   "metadata": {},
   "source": [
    "|Ability|Description|Source|\n",
    "|:---|:---|:---|\n",
    "|TBD|TBD|TBD|"
   ]
  },
  {
   "cell_type": "markdown",
   "metadata": {},
   "source": [
    "## Ability Score"
   ]
  },
  {
   "cell_type": "markdown",
   "metadata": {},
   "source": [
    "|Ability|Score|Modifier|\n",
    "|:---|:---:|:---:|\n",
    "|Strength|10||\n",
    "|Dexterity|10||\n",
    "|Constitution|10||\n",
    "|Intelligence|10||\n",
    "|Wisdom|10||\n",
    "|Charisma|10||"
   ]
  },
  {
   "cell_type": "markdown",
   "metadata": {},
   "source": [
    "## Saving Throw"
   ]
  },
  {
   "cell_type": "markdown",
   "metadata": {},
   "source": [
    "|Ability|Modifier|\n",
    "|:---|:---:|\n",
    "|Strength|1|\n",
    "|Dexterity|1|\n",
    "|Constitution|1|\n",
    "|Intelligence|1|\n",
    "|Wisdom|1|\n",
    "|Charisma|1|"
   ]
  },
  {
   "cell_type": "markdown",
   "metadata": {},
   "source": [
    "## Skills"
   ]
  },
  {
   "cell_type": "markdown",
   "metadata": {},
   "source": [
    "|Skill|Score|Ability|\n",
    "|:---|:---:|:---:|\n",
    "|Acrobatics|0|Dex|\n",
    "|Animal Handling|0|Wis|\n",
    "|Arcana|0|Int|\n",
    "|Athletics|0|Str|\n",
    "|Deception|0|Cha|\n",
    "|History|0|Int|\n",
    "|Insight|0|Wis|\n",
    "|Intimidation|0|Cha|\n",
    "|Investigation|0|Int|\n",
    "|Medicine|0|Wis|\n",
    "|Nature|0|Int|\n",
    "|Perception|0|Wis|\n",
    "|Performance|0|Cha|\n",
    "|Persuasion|0|Cha|\n",
    "|Religion|0|Int|\n",
    "|Sleight of Hand|0|Dex|\n",
    "|Stealth|0|Dex|\n",
    "|Survival|0|Wis|"
   ]
  },
  {
   "cell_type": "markdown",
   "metadata": {},
   "source": [
    "## Speed"
   ]
  },
  {
   "cell_type": "markdown",
   "metadata": {},
   "source": [
    "|Type|Distance (ft)|\n",
    "|:---|:---:|\n",
    "|Walking|30|\n",
    "|Swimming|30|\n",
    "|Climbing|TBD|\n",
    "|Flying|TBD|\n",
    "|Rough Terrain (Earth)|TBD|\n",
    "|Rough Terrain (Other)|15|"
   ]
  },
  {
   "cell_type": "markdown",
   "metadata": {},
   "source": [
    "# **Character:** *Noel 2*\n",
    "\n",
    "|Information|Description|\n",
    "|:---|:---|\n",
    "|Player|Noel|\n",
    "|Background|TBD|\n",
    "|Race|TBD|\n",
    "|Language(s)|Common, TBD|\n",
    "|Size|TBD|\n",
    "|Weight|TBD|\n"
   ]
  },
  {
   "cell_type": "markdown",
   "metadata": {},
   "source": [
    "## Class Features"
   ]
  },
  {
   "cell_type": "markdown",
   "metadata": {},
   "source": [
    "|Class|Variant|Level|\n",
    "|:---|:---|:---:|\n",
    "|TBD|TBD|1|"
   ]
  },
  {
   "cell_type": "markdown",
   "metadata": {},
   "source": [
    "## Abilities"
   ]
  },
  {
   "cell_type": "markdown",
   "metadata": {},
   "source": [
    "|Ability|Description|Source|\n",
    "|:---|:---|:---|\n",
    "|TBD|TBD|TBD|"
   ]
  },
  {
   "cell_type": "markdown",
   "metadata": {},
   "source": [
    "## Ability Score"
   ]
  },
  {
   "cell_type": "markdown",
   "metadata": {},
   "source": [
    "|Ability|Score|Modifier|\n",
    "|:---|:---:|:---:|\n",
    "|Strength|10||\n",
    "|Dexterity|10||\n",
    "|Constitution|10||\n",
    "|Intelligence|10||\n",
    "|Wisdom|10||\n",
    "|Charisma|10||"
   ]
  },
  {
   "cell_type": "markdown",
   "metadata": {},
   "source": [
    "## Saving Throw"
   ]
  },
  {
   "cell_type": "markdown",
   "metadata": {},
   "source": [
    "|Ability|Modifier|\n",
    "|:---|:---:|\n",
    "|Strength|1|\n",
    "|Dexterity|1|\n",
    "|Constitution|1|\n",
    "|Intelligence|1|\n",
    "|Wisdom|1|\n",
    "|Charisma|1|"
   ]
  },
  {
   "cell_type": "markdown",
   "metadata": {},
   "source": [
    "## Skills"
   ]
  },
  {
   "cell_type": "markdown",
   "metadata": {},
   "source": [
    "|Skill|Score|Ability|\n",
    "|:---|:---:|:---:|\n",
    "|Acrobatics|0|Dex|\n",
    "|Animal Handling|0|Wis|\n",
    "|Arcana|0|Int|\n",
    "|Athletics|0|Str|\n",
    "|Deception|0|Cha|\n",
    "|History|0|Int|\n",
    "|Insight|0|Wis|\n",
    "|Intimidation|0|Cha|\n",
    "|Investigation|0|Int|\n",
    "|Medicine|0|Wis|\n",
    "|Nature|0|Int|\n",
    "|Perception|0|Wis|\n",
    "|Performance|0|Cha|\n",
    "|Persuasion|0|Cha|\n",
    "|Religion|0|Int|\n",
    "|Sleight of Hand|0|Dex|\n",
    "|Stealth|0|Dex|\n",
    "|Survival|0|Wis|"
   ]
  },
  {
   "cell_type": "markdown",
   "metadata": {},
   "source": [
    "## Speed"
   ]
  },
  {
   "cell_type": "markdown",
   "metadata": {},
   "source": [
    "|Type|Distance (ft)|\n",
    "|:---|:---:|\n",
    "|Walking|30|\n",
    "|Swimming|TBD|\n",
    "|Climbing|TBD|\n",
    "|Flying|TBD|\n",
    "|Rough Terrain|TBD|"
   ]
  }
 ],
 "metadata": {
  "interpreter": {
   "hash": "fa48fdcfbdb70017895bac091f21dd6e9d8542f6172453d7cb960256c55ca3ea"
  },
  "kernelspec": {
   "display_name": "Python 3.8.5 ('base')",
   "language": "python",
   "name": "python3"
  },
  "language_info": {
   "codemirror_mode": {
    "name": "ipython",
    "version": 3
   },
   "file_extension": ".py",
   "mimetype": "text/x-python",
   "name": "python",
   "nbconvert_exporter": "python",
   "pygments_lexer": "ipython3",
   "version": "3.8.5"
  },
  "orig_nbformat": 4
 },
 "nbformat": 4,
 "nbformat_minor": 2
}
