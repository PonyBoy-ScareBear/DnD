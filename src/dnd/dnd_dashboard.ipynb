{
 "cells": [
  {
   "cell_type": "markdown",
   "metadata": {},
   "source": [
    "## Level and Proficiency Bonus Calculator"
   ]
  },
  {
   "cell_type": "code",
   "execution_count": 23,
   "metadata": {},
   "outputs": [
    {
     "name": "stdout",
     "output_type": "stream",
     "text": [
      "Level = 2\n",
      "Proficiency Bonus = +2\n"
     ]
    }
   ],
   "source": [
    "import level_and_proficiency_bonus_calculator as lpc\n",
    "\n",
    "xp = 310\n",
    "\n",
    "lvl = lpc.lvl_calc(xp)\n",
    "pb = lpc.prof_calc(xp)\n",
    "\n",
    "print(f'Level = {lvl}')\n",
    "print(f'Proficiency Bonus = +{pb}')"
   ]
  },
  {
   "cell_type": "markdown",
   "metadata": {},
   "source": [
    "## Dice Roller"
   ]
  },
  {
   "cell_type": "markdown",
   "metadata": {},
   "source": [
    "### Single Roll"
   ]
  },
  {
   "cell_type": "code",
   "execution_count": 269,
   "metadata": {},
   "outputs": [
    {
     "name": "stdout",
     "output_type": "stream",
     "text": [
      "A single d6 roll: 3\n"
     ]
    }
   ],
   "source": [
    "import dice_roller\n",
    "\n",
    "\n",
    "type_of_die = 6\n",
    "roll = dice_roller.single_roll(type_of_die)\n",
    "print(f'A single d{type_of_die} roll: {roll}')"
   ]
  },
  {
   "cell_type": "markdown",
   "metadata": {},
   "source": [
    "### Multiple Rolls"
   ]
  },
  {
   "cell_type": "code",
   "execution_count": 286,
   "metadata": {},
   "outputs": [
    {
     "name": "stdout",
     "output_type": "stream",
     "text": [
      "4 rolls of a d6: [2, 1, 6, 3]\n",
      "\n",
      "SUM of 4 rolls: 12\n",
      "AVG of 4 rolls: 3.0\n"
     ]
    }
   ],
   "source": [
    "import dice_roller\n",
    "\n",
    "\n",
    "number_of_dice = 4\n",
    "type_of_dice = 6\n",
    "list_of_rolls = dice_roller.multiple_rolls(number_of_dice, type_of_dice)\n",
    "\n",
    "print(f'{len(list_of_rolls)} rolls of a d{type_of_dice}: {list_of_rolls}')\n",
    "print()\n",
    "print(f'SUM of {len(list_of_rolls)} rolls: {sum(list_of_rolls)}')\n",
    "print(f'AVG of {len(list_of_rolls)} rolls: {sum(list_of_rolls)/len(list_of_rolls)}')"
   ]
  },
  {
   "cell_type": "code",
   "execution_count": null,
   "metadata": {},
   "outputs": [],
   "source": []
  }
 ],
 "metadata": {
  "interpreter": {
   "hash": "0289f361c2b83a3745cddaf831ce9b822099f1199e29a51d976359dd03db687d"
  },
  "kernelspec": {
   "display_name": "Python 3.9.13 64-bit (windows store)",
   "language": "python",
   "name": "python3"
  },
  "language_info": {
   "codemirror_mode": {
    "name": "ipython",
    "version": 3
   },
   "file_extension": ".py",
   "mimetype": "text/x-python",
   "name": "python",
   "nbconvert_exporter": "python",
   "pygments_lexer": "ipython3",
   "version": "3.9.13"
  },
  "orig_nbformat": 4
 },
 "nbformat": 4,
 "nbformat_minor": 2
}
