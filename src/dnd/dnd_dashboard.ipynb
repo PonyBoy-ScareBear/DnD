{
 "cells": [
  {
   "cell_type": "markdown",
   "metadata": {},
   "source": [
    "## Level and Proficiency Bonus Calculator"
   ]
  },
  {
   "cell_type": "code",
   "execution_count": null,
   "metadata": {},
   "outputs": [],
   "source": [
    "from level_n_prof_bonus_calculator import lvl_calc, prof_calc\n",
    "\n",
    "XP = 0\n",
    "lvl_calc(XP)\n",
    "prof_calc(XP)"
   ]
  }
 ],
 "metadata": {
  "interpreter": {
   "hash": "0289f361c2b83a3745cddaf831ce9b822099f1199e29a51d976359dd03db687d"
  },
  "kernelspec": {
   "display_name": "Python 3.9.13 64-bit (windows store)",
   "language": "python",
   "name": "python3"
  },
  "language_info": {
   "codemirror_mode": {
    "name": "ipython",
    "version": 3
   },
   "file_extension": ".py",
   "mimetype": "text/x-python",
   "name": "python",
   "nbconvert_exporter": "python",
   "pygments_lexer": "ipython3",
   "version": "3.9.13"
  },
  "orig_nbformat": 4
 },
 "nbformat": 4,
 "nbformat_minor": 2
}
