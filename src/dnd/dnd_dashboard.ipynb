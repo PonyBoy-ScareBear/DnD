{
 "cells": [
  {
   "cell_type": "markdown",
   "metadata": {},
   "source": [
    "## Level and Proficiency Bonus Calculator"
   ]
  },
  {
   "cell_type": "code",
   "execution_count": 20,
   "metadata": {},
   "outputs": [
    {
     "ename": "NameError",
     "evalue": "name 'level' is not defined",
     "output_type": "error",
     "traceback": [
      "\u001b[1;31m---------------------------------------------------------------------------\u001b[0m",
      "\u001b[1;31mNameError\u001b[0m                                 Traceback (most recent call last)",
      "\u001b[1;32mc:\\Users\\tmush\\OneDrive\\Documents\\Python Scripts\\DnD\\src\\dnd\\dnd_dashboard.ipynb Cell 2'\u001b[0m in \u001b[0;36m<cell line: 6>\u001b[1;34m()\u001b[0m\n\u001b[0;32m      <a href='vscode-notebook-cell:/c%3A/Users/tmush/OneDrive/Documents/Python%20Scripts/DnD/src/dnd/dnd_dashboard.ipynb#ch0000001?line=2'>3</a>\u001b[0m XP \u001b[39m=\u001b[39m \u001b[39m310\u001b[39m\n\u001b[0;32m      <a href='vscode-notebook-cell:/c%3A/Users/tmush/OneDrive/Documents/Python%20Scripts/DnD/src/dnd/dnd_dashboard.ipynb#ch0000001?line=3'>4</a>\u001b[0m lpc\u001b[39m.\u001b[39mlvl_calc(XP)\n\u001b[1;32m----> <a href='vscode-notebook-cell:/c%3A/Users/tmush/OneDrive/Documents/Python%20Scripts/DnD/src/dnd/dnd_dashboard.ipynb#ch0000001?line=5'>6</a>\u001b[0m level \u001b[39m=\u001b[39m level \u001b[39m+\u001b[39m \u001b[39m1\u001b[39m\n",
      "\u001b[1;31mNameError\u001b[0m: name 'level' is not defined"
     ]
    }
   ],
   "source": [
    "import level_and_proficiency_bonus_calculator as lpc\n",
    "\n",
    "XP = 310\n",
    "lpc.lvl_calc(XP)"
   ]
  },
  {
   "cell_type": "code",
   "execution_count": 18,
   "metadata": {},
   "outputs": [
    {
     "ename": "NameError",
     "evalue": "name 'level' is not defined",
     "output_type": "error",
     "traceback": [
      "\u001b[1;31m---------------------------------------------------------------------------\u001b[0m",
      "\u001b[1;31mNameError\u001b[0m                                 Traceback (most recent call last)",
      "\u001b[1;32mc:\\Users\\tmush\\OneDrive\\Documents\\Python Scripts\\DnD\\src\\dnd\\dnd_dashboard.ipynb Cell 3'\u001b[0m in \u001b[0;36m<cell line: 1>\u001b[1;34m()\u001b[0m\n\u001b[1;32m----> <a href='vscode-notebook-cell:/c%3A/Users/tmush/OneDrive/Documents/Python%20Scripts/DnD/src/dnd/dnd_dashboard.ipynb#ch0000004?line=0'>1</a>\u001b[0m level\n",
      "\u001b[1;31mNameError\u001b[0m: name 'level' is not defined"
     ]
    }
   ],
   "source": []
  },
  {
   "cell_type": "code",
   "execution_count": 4,
   "metadata": {},
   "outputs": [
    {
     "ename": "NameError",
     "evalue": "name 'level' is not defined",
     "output_type": "error",
     "traceback": [
      "\u001b[1;31m---------------------------------------------------------------------------\u001b[0m",
      "\u001b[1;31mNameError\u001b[0m                                 Traceback (most recent call last)",
      "\u001b[1;32mc:\\Users\\tmush\\OneDrive\\Documents\\Python Scripts\\DnD\\src\\dnd\\dnd_dashboard.ipynb Cell 3'\u001b[0m in \u001b[0;36m<cell line: 1>\u001b[1;34m()\u001b[0m\n\u001b[1;32m----> <a href='vscode-notebook-cell:/c%3A/Users/tmush/OneDrive/Documents/Python%20Scripts/DnD/src/dnd/dnd_dashboard.ipynb#ch0000003?line=0'>1</a>\u001b[0m \u001b[39mprint\u001b[39m(\u001b[39mf\u001b[39m\u001b[39m'\u001b[39m\u001b[39mLevel = \u001b[39m\u001b[39m{\u001b[39;00mlevel\u001b[39m}\u001b[39;00m\u001b[39m'\u001b[39m)\n\u001b[0;32m      <a href='vscode-notebook-cell:/c%3A/Users/tmush/OneDrive/Documents/Python%20Scripts/DnD/src/dnd/dnd_dashboard.ipynb#ch0000003?line=1'>2</a>\u001b[0m \u001b[39mprint\u001b[39m(\u001b[39mf\u001b[39m\u001b[39m'\u001b[39m\u001b[39mProficiency Bonus = +\u001b[39m\u001b[39m{\u001b[39;00mproficiency_bonus\u001b[39m}\u001b[39;00m\u001b[39m'\u001b[39m)\n",
      "\u001b[1;31mNameError\u001b[0m: name 'level' is not defined"
     ]
    }
   ],
   "source": [
    "from prof_bonus_calc import lvl_calc\n",
    "\n",
    "XP = 310\n",
    "lvl_calc(XP)"
   ]
  }
 ],
 "metadata": {
  "interpreter": {
   "hash": "0289f361c2b83a3745cddaf831ce9b822099f1199e29a51d976359dd03db687d"
  },
  "kernelspec": {
   "display_name": "Python 3.9.13 64-bit (windows store)",
   "language": "python",
   "name": "python3"
  },
  "language_info": {
   "codemirror_mode": {
    "name": "ipython",
    "version": 3
   },
   "file_extension": ".py",
   "mimetype": "text/x-python",
   "name": "python",
   "nbconvert_exporter": "python",
   "pygments_lexer": "ipython3",
   "version": "3.9.13"
  },
  "orig_nbformat": 4
 },
 "nbformat": 4,
 "nbformat_minor": 2
}
