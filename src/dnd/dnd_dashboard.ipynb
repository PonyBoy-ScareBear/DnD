{
 "cells": [
  {
   "cell_type": "markdown",
   "metadata": {},
   "source": [
    "## Level and Proficiency Bonus Calculator"
   ]
  },
  {
   "cell_type": "code",
   "execution_count": 23,
   "metadata": {},
   "outputs": [
    {
     "name": "stdout",
     "output_type": "stream",
     "text": [
      "Level = 2\n",
      "Proficiency Bonus = +2\n"
     ]
    }
   ],
   "source": [
    "import level_and_proficiency_bonus_calculator as lpc\n",
    "\n",
    "xp = 310\n",
    "\n",
    "lvl = lpc.lvl_calc(xp)\n",
    "pb = lpc.prof_calc(xp)\n",
    "\n",
    "print(f'Level = {lvl}')\n",
    "print(f'Proficiency Bonus = +{pb}')"
   ]
  },
  {
   "cell_type": "markdown",
   "metadata": {},
   "source": [
    "## Random Number Generator"
   ]
  },
  {
   "cell_type": "code",
   "execution_count": 50,
   "metadata": {},
   "outputs": [
    {
     "name": "stdout",
     "output_type": "stream",
     "text": [
      "On a d10 you rolled a 1\n"
     ]
    }
   ],
   "source": [
    "import random_number_generator as rng\n",
    "\n",
    "dice = 10\n",
    "\n",
    "dice, roll = rng.rand_int_gen(dice)\n",
    "print(f'On a d{dice} you rolled a {roll}')"
   ]
  }
 ],
 "metadata": {
  "interpreter": {
   "hash": "0289f361c2b83a3745cddaf831ce9b822099f1199e29a51d976359dd03db687d"
  },
  "kernelspec": {
   "display_name": "Python 3.9.13 64-bit (windows store)",
   "language": "python",
   "name": "python3"
  },
  "language_info": {
   "codemirror_mode": {
    "name": "ipython",
    "version": 3
   },
   "file_extension": ".py",
   "mimetype": "text/x-python",
   "name": "python",
   "nbconvert_exporter": "python",
   "pygments_lexer": "ipython3",
   "version": "3.9.13"
  },
  "orig_nbformat": 4
 },
 "nbformat": 4,
 "nbformat_minor": 2
}
