{
 "cells": [
  {
   "cell_type": "markdown",
   "metadata": {},
   "source": [
    "## Level and Proficiency Bonus Calculator"
   ]
  },
  {
   "cell_type": "code",
   "execution_count": 23,
   "metadata": {},
   "outputs": [
    {
     "name": "stdout",
     "output_type": "stream",
     "text": [
      "Level = 2\n",
      "Proficiency Bonus = +2\n"
     ]
    }
   ],
   "source": [
    "import level_and_proficiency_bonus_calculator as lpc\n",
    "\n",
    "xp = 310\n",
    "\n",
    "lvl = lpc.lvl_calc(xp)\n",
    "pb = lpc.prof_calc(xp)\n",
    "\n",
    "print(f'Level = {lvl}')\n",
    "print(f'Proficiency Bonus = +{pb}')"
   ]
  },
  {
   "cell_type": "markdown",
   "metadata": {},
   "source": [
    "## Random Number Generator"
   ]
  },
  {
   "cell_type": "code",
   "execution_count": 99,
   "metadata": {},
   "outputs": [
    {
     "ename": "AttributeError",
     "evalue": "module 'random_number_generator' has no attribute 'single_roll'",
     "output_type": "error",
     "traceback": [
      "\u001b[1;31m---------------------------------------------------------------------------\u001b[0m",
      "\u001b[1;31mAttributeError\u001b[0m                            Traceback (most recent call last)",
      "\u001b[1;32mc:\\Users\\tmush\\OneDrive\\Documents\\Python Scripts\\DnD\\src\\dnd\\dnd_dashboard.ipynb Cell 4'\u001b[0m in \u001b[0;36m<cell line: 4>\u001b[1;34m()\u001b[0m\n\u001b[0;32m      <a href='vscode-notebook-cell:/c%3A/Users/tmush/OneDrive/Documents/Python%20Scripts/DnD/src/dnd/dnd_dashboard.ipynb#ch0000006?line=0'>1</a>\u001b[0m \u001b[39mimport\u001b[39;00m \u001b[39mrandom_number_generator\u001b[39;00m \u001b[39mas\u001b[39;00m \u001b[39mrng\u001b[39;00m\n\u001b[0;32m      <a href='vscode-notebook-cell:/c%3A/Users/tmush/OneDrive/Documents/Python%20Scripts/DnD/src/dnd/dnd_dashboard.ipynb#ch0000006?line=2'>3</a>\u001b[0m dice \u001b[39m=\u001b[39m \u001b[39m10\u001b[39m\n\u001b[1;32m----> <a href='vscode-notebook-cell:/c%3A/Users/tmush/OneDrive/Documents/Python%20Scripts/DnD/src/dnd/dnd_dashboard.ipynb#ch0000006?line=3'>4</a>\u001b[0m roll \u001b[39m=\u001b[39m rng\u001b[39m.\u001b[39;49msingle_roll(dice)\n\u001b[0;32m      <a href='vscode-notebook-cell:/c%3A/Users/tmush/OneDrive/Documents/Python%20Scripts/DnD/src/dnd/dnd_dashboard.ipynb#ch0000006?line=4'>5</a>\u001b[0m \u001b[39mprint\u001b[39m(\u001b[39mf\u001b[39m\u001b[39m'\u001b[39m\u001b[39mOn a d\u001b[39m\u001b[39m{\u001b[39;00mdice\u001b[39m}\u001b[39;00m\u001b[39m you rolled a \u001b[39m\u001b[39m{\u001b[39;00mroll\u001b[39m}\u001b[39;00m\u001b[39m'\u001b[39m)\n",
      "\u001b[1;31mAttributeError\u001b[0m: module 'random_number_generator' has no attribute 'single_roll'"
     ]
    }
   ],
   "source": [
    "import random_number_generator as rng\n",
    "\n",
    "dice = 10\n",
    "roll = rng.single_roll(dice)\n",
    "print(f'On a d{dice} you rolled a {roll}')"
   ]
  },
  {
   "cell_type": "code",
   "execution_count": 80,
   "metadata": {},
   "outputs": [
    {
     "name": "stdout",
     "output_type": "stream",
     "text": [
      "[1, 1, 1, 1]\n"
     ]
    }
   ],
   "source": [
    "import random_number_generator as rng\n",
    "\n",
    "\n",
    "def multiple_rolls(number_of_rolls: int,type_of_dice: int = 6) -> list[int]:\n",
    "    for i in range(1,number_of_rolls+1):\n",
    "        list_of_rolls\n",
    "    return list_of_rolls\n",
    "\n",
    "\n",
    "dice, roll = rng.rand_int_gen(dice)\n",
    "number_of_rolls = 4\n",
    "list_of_rolls = [1 for i in range(1,number_of_rolls+1)]\n",
    "print(list_of_rolls)"
   ]
  },
  {
   "cell_type": "code",
   "execution_count": 96,
   "metadata": {},
   "outputs": [
    {
     "name": "stdout",
     "output_type": "stream",
     "text": [
      "[3, 6, 4, 5]\n"
     ]
    }
   ],
   "source": [
    "import random_number_generator as rng\n",
    "import random\n",
    "\n",
    "number_of_rolls = 4\n",
    "dice = 6\n",
    "for i in range(1,number_of_rolls+1):\n",
    "    list_of_rolls[i-1] = random.randint(1,dice)\n",
    "print(list_of_rolls)"
   ]
  }
 ],
 "metadata": {
  "interpreter": {
   "hash": "0289f361c2b83a3745cddaf831ce9b822099f1199e29a51d976359dd03db687d"
  },
  "kernelspec": {
   "display_name": "Python 3.9.13 64-bit (windows store)",
   "language": "python",
   "name": "python3"
  },
  "language_info": {
   "codemirror_mode": {
    "name": "ipython",
    "version": 3
   },
   "file_extension": ".py",
   "mimetype": "text/x-python",
   "name": "python",
   "nbconvert_exporter": "python",
   "pygments_lexer": "ipython3",
   "version": "3.9.13"
  },
  "orig_nbformat": 4
 },
 "nbformat": 4,
 "nbformat_minor": 2
}
