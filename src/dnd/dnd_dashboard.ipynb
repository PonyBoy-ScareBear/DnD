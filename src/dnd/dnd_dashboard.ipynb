{
 "cells": [],
 "metadata": {
  "interpreter": {
   "hash": "fa48fdcfbdb70017895bac091f21dd6e9d8542f6172453d7cb960256c55ca3ea"
  },
  "kernelspec": {
   "display_name": "Python 3.8.5 ('base')",
   "language": "python",
   "name": "python3"
  },
  "language_info": {
   "codemirror_mode": {
    "name": "ipython",
    "version": 3
   },
   "file_extension": ".py",
   "mimetype": "text/x-python",
   "name": "python",
   "nbconvert_exporter": "python",
   "pygments_lexer": "ipython3",
   "version": "3.8.5"
  },
  "orig_nbformat": 4
 },
 "nbformat": 4,
 "nbformat_minor": 2
}
